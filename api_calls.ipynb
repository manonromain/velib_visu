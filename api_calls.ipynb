{
 "cells": [
  {
   "cell_type": "code",
   "execution_count": 1,
   "id": "a4846c5c",
   "metadata": {},
   "outputs": [],
   "source": [
    "import requests\n",
    "import json\n",
    "import pandas as pd\n",
    "from datetime import datetime\n",
    "import sys, time"
   ]
  },
  {
   "cell_type": "code",
   "execution_count": 2,
   "id": "a37076f4",
   "metadata": {},
   "outputs": [],
   "source": [
    "def request_and_write():\n",
    "    req = requests.get(\"https://velib-metropole-opendata.smoove.pro/opendata/Velib_Metropole/station_status.json\")\n",
    "    data = req.json()\n",
    "\n",
    "    df = pd.DataFrame(data[\"data\"][\"stations\"])\n",
    "    \n",
    "    # Preprocess\n",
    "    df[\"num_mech_bikes_available\"] = df.num_bikes_available_types.apply(lambda x:x[0][\"mechanical\"])\n",
    "    df[\"num_ebikes_available\"] = df.num_bikes_available_types.apply(lambda x:x[1][\"ebike\"])\n",
    "    df[\"legible_last_reported\"] = df.last_reported.apply(datetime.fromtimestamp)\n",
    "    df[\"functioning_word\"] = df.is_installed.apply(str) + df.is_returning.apply(str) + df.is_renting.apply(str)\n",
    "    df = df.drop([\"numBikesAvailable\", \"numDocksAvailable\", \"num_bikes_available_types\"], axis=1)\n",
    "    df[\"lastUpdated\"] = datetime.fromtimestamp(data[\"lastUpdatedOther\"])\n",
    "    df[\"date_retrieved\"] = datetime.now().strftime(\"%Y-%m-%d %H:%M:%S\")\n",
    "    df.to_csv(\"velib_data_with_date.csv\", mode=\"a\", header=False)\n",
    "    return 0"
   ]
  },
  {
   "cell_type": "code",
   "execution_count": null,
   "id": "65e20051",
   "metadata": {},
   "outputs": [
    {
     "name": "stdout",
     "output_type": "stream",
     "text": [
      "Again!            ng..\n",
      "Again!            ng..\n",
      "Again!            ng..\n",
      "Again!            ng..\n",
      "Again!            ng..\n",
      "Again!            ng..\n",
      "346 seconds remaining."
     ]
    }
   ],
   "source": [
    "while True:\n",
    "    try:\n",
    "        request_and_write()\n",
    "    except Exception as e:\n",
    "        sys.stdout.write(e)\n",
    "        time.sleep(60)\n",
    "        continue\n",
    "    for remaining in range(15*60, 0, -1):\n",
    "        sys.stdout.write(\"\\r\")\n",
    "        sys.stdout.write(\"{:2d} seconds remaining.\".format(remaining))\n",
    "        sys.stdout.flush()\n",
    "        time.sleep(1)\n",
    "    sys.stdout.write(\"\\rAgain!            \\n\")"
   ]
  },
  {
   "cell_type": "code",
   "execution_count": null,
   "id": "00555a41",
   "metadata": {},
   "outputs": [],
   "source": [
    "\n"
   ]
  },
  {
   "cell_type": "code",
   "execution_count": null,
   "id": "f45f704b",
   "metadata": {},
   "outputs": [],
   "source": []
  },
  {
   "cell_type": "code",
   "execution_count": null,
   "id": "9294fddc",
   "metadata": {},
   "outputs": [],
   "source": []
  },
  {
   "cell_type": "code",
   "execution_count": null,
   "id": "b810c226",
   "metadata": {},
   "outputs": [],
   "source": []
  }
 ],
 "metadata": {
  "kernelspec": {
   "display_name": "Python 3",
   "language": "python",
   "name": "python3"
  },
  "language_info": {
   "codemirror_mode": {
    "name": "ipython",
    "version": 3
   },
   "file_extension": ".py",
   "mimetype": "text/x-python",
   "name": "python",
   "nbconvert_exporter": "python",
   "pygments_lexer": "ipython3",
   "version": "3.8.5"
  }
 },
 "nbformat": 4,
 "nbformat_minor": 5
}
